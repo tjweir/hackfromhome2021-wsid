{
  "nbformat": 4,
  "nbformat_minor": 0,
  "metadata": {
    "accelerator": "TPU",
    "colab": {
      "name": "Working.ipynb",
      "provenance": [],
      "collapsed_sections": [],
      "include_colab_link": true
    },
    "kernelspec": {
      "display_name": "Python 3",
      "language": "python",
      "name": "python3"
    },
    "language_info": {
      "codemirror_mode": {
        "name": "ipython",
        "version": 3
      },
      "file_extension": ".py",
      "mimetype": "text/x-python",
      "name": "python",
      "nbconvert_exporter": "python",
      "pygments_lexer": "ipython3",
      "version": "3.8.3"
    },
    "toc": {
      "base_numbering": 1,
      "nav_menu": {},
      "number_sections": true,
      "sideBar": true,
      "skip_h1_title": false,
      "title_cell": "Table of Contents",
      "title_sidebar": "Contents",
      "toc_cell": false,
      "toc_position": {},
      "toc_section_display": true,
      "toc_window_display": false
    },
    "varInspector": {
      "cols": {
        "lenName": 16,
        "lenType": 16,
        "lenVar": 40
      },
      "kernels_config": {
        "python": {
          "delete_cmd_postfix": "",
          "delete_cmd_prefix": "del ",
          "library": "var_list.py",
          "varRefreshCmd": "print(var_dic_list())"
        },
        "r": {
          "delete_cmd_postfix": ") ",
          "delete_cmd_prefix": "rm(",
          "library": "var_list.r",
          "varRefreshCmd": "cat(var_dic_list()) "
        }
      },
      "types_to_exclude": [
        "module",
        "function",
        "builtin_function_or_method",
        "instance",
        "_Feature"
      ],
      "window_display": false
    }
  },
  "cells": [
    {
      "cell_type": "markdown",
      "metadata": {
        "id": "view-in-github",
        "colab_type": "text"
      },
      "source": [
        "<a href=\"https://colab.research.google.com/github/tjweir/hackfromhome2021-wsid/blob/main/Analyze_Data.ipynb\" target=\"_parent\"><img src=\"https://colab.research.google.com/assets/colab-badge.svg\" alt=\"Open In Colab\"/></a>"
      ]
    },
    {
      "cell_type": "markdown",
      "metadata": {
        "id": "p9f1wJDcK7Bg"
      },
      "source": [
        "# Feature Engineering + Modeling "
      ]
    },
    {
      "cell_type": "code",
      "metadata": {
        "id": "QZlCN3oLL9Ut"
      },
      "source": [
        "import pandas as pd\n",
        "import numpy as np\n",
        "import seaborn as sns\n",
        "from pandas_profiling import ProfileReport"
      ],
      "execution_count": null,
      "outputs": []
    },
    {
      "cell_type": "code",
      "metadata": {
        "id": "rPpl46ciMWnx"
      },
      "source": [
        "df = pd.read_excel(\"FinalData_20000.xlsx\")"
      ],
      "execution_count": null,
      "outputs": []
    },
    {
      "cell_type": "code",
      "metadata": {
        "colab": {
          "base_uri": "https://localhost:8080/"
        },
        "id": "6IjlkM1nhyP7",
        "outputId": "62490057-20e7-493b-bbe1-b420886164f2"
      },
      "source": [
        "#from google.colab import drive\n",
        "#drive.mount('/content/drive')"
      ],
      "execution_count": null,
      "outputs": [
        {
          "output_type": "stream",
          "text": [
            "Drive already mounted at /content/drive; to attempt to forcibly remount, call drive.mount(\"/content/drive\", force_remount=True).\n"
          ],
          "name": "stdout"
        }
      ]
    },
    {
      "cell_type": "code",
      "metadata": {
        "colab": {
          "base_uri": "https://localhost:8080/"
        },
        "id": "9tnM4MARLeTy",
        "outputId": "dd01b116-7c46-450e-e435-767fe0457e18"
      },
      "source": [
        "df.columns"
      ],
      "execution_count": null,
      "outputs": [
        {
          "output_type": "execute_result",
          "data": {
            "text/plain": [
              "Index(['House', 'latitude', 'longitude', 'energy_type', 'heating_type',\n",
              "       'glazing_types', 'vehicle_type', 'domicile_type', 'season',\n",
              "       'temperature', 'Temp_cat', 'house_size', 'num_occupants', 'year_built',\n",
              "       'insulation', 'SmartHouse', 'EPC_rating', 'num_appliances',\n",
              "       'energy_usage_pm'],\n",
              "      dtype='object')"
            ]
          },
          "metadata": {
            "tags": []
          },
          "execution_count": 3
        }
      ]
    },
    {
      "cell_type": "code",
      "metadata": {
        "id": "OKizGIGhLvz0"
      },
      "source": [
        "df.drop(['temperature'], axis=1, inplace = True)"
      ],
      "execution_count": null,
      "outputs": []
    },
    {
      "cell_type": "code",
      "metadata": {
        "id": "is7ViyMlfLQL"
      },
      "source": [
        "#df.to_excel(\"/content/drive/MyDrive/Hackathon/FinalData_3.xlsx\", index=False)"
      ],
      "execution_count": null,
      "outputs": []
    },
    {
      "cell_type": "code",
      "metadata": {
        "colab": {
          "base_uri": "https://localhost:8080/"
        },
        "id": "wL5VAnp7k-le",
        "outputId": "ed615da2-986a-4d5e-c8f0-c887b67076b4"
      },
      "source": [
        "df.info()"
      ],
      "execution_count": null,
      "outputs": [
        {
          "output_type": "stream",
          "text": [
            "<class 'pandas.core.frame.DataFrame'>\n",
            "RangeIndex: 40000 entries, 0 to 39999\n",
            "Data columns (total 18 columns):\n",
            " #   Column           Non-Null Count  Dtype  \n",
            "---  ------           --------------  -----  \n",
            " 0   House            40000 non-null  int64  \n",
            " 1   latitude         40000 non-null  float64\n",
            " 2   longitude        40000 non-null  float64\n",
            " 3   energy_type      40000 non-null  object \n",
            " 4   heating_type     40000 non-null  object \n",
            " 5   glazing_types    40000 non-null  object \n",
            " 6   vehicle_type     40000 non-null  object \n",
            " 7   domicile_type    40000 non-null  object \n",
            " 8   season           40000 non-null  object \n",
            " 9   Temp_cat         40000 non-null  object \n",
            " 10  house_size       40000 non-null  object \n",
            " 11  num_occupants    40000 non-null  int64  \n",
            " 12  year_built       40000 non-null  int64  \n",
            " 13  insulation       40000 non-null  object \n",
            " 14  SmartHouse       40000 non-null  object \n",
            " 15  EPC_rating       40000 non-null  object \n",
            " 16  num_appliances   40000 non-null  int64  \n",
            " 17  energy_usage_pm  40000 non-null  float64\n",
            "dtypes: float64(3), int64(4), object(11)\n",
            "memory usage: 5.5+ MB\n"
          ],
          "name": "stdout"
        }
      ]
    },
    {
      "cell_type": "code",
      "metadata": {
        "colab": {
          "base_uri": "https://localhost:8080/"
        },
        "id": "VjUb-cb3lUpW",
        "outputId": "de9ad203-778f-4b42-b87a-2927bccc06e9"
      },
      "source": [
        "df.columns"
      ],
      "execution_count": null,
      "outputs": [
        {
          "output_type": "execute_result",
          "data": {
            "text/plain": [
              "Index(['House', 'latitude', 'longitude', 'energy_type', 'heating_type',\n",
              "       'glazing_types', 'vehicle_type', 'domicile_type', 'season', 'Temp_cat',\n",
              "       'house_size', 'num_occupants', 'year_built', 'insulation', 'SmartHouse',\n",
              "       'EPC_rating', 'num_appliances', 'energy_usage_pm'],\n",
              "      dtype='object')"
            ]
          },
          "metadata": {
            "tags": []
          },
          "execution_count": 7
        }
      ]
    },
    {
      "cell_type": "code",
      "metadata": {
        "id": "qCAYekFpPxR3",
        "scrolled": true,
        "outputId": "4b9576e4-c9ab-4c17-c1ac-d6a345a74f87"
      },
      "source": [
        "!pip install lazypredict"
      ],
      "execution_count": null,
      "outputs": [
        {
          "output_type": "stream",
          "text": [
            "Collecting lazypredict\n",
            "  Using cached lazypredict-0.2.9-py2.py3-none-any.whl (12 kB)\n",
            "Requirement already satisfied: six==1.15.0 in c:\\users\\divit\\anaconda3\\lib\\site-packages (from lazypredict) (1.15.0)\n",
            "Collecting xgboost==1.1.1\n",
            "  Using cached xgboost-1.1.1-py3-none-win_amd64.whl (54.4 MB)\n",
            "Requirement already satisfied: pytest==5.4.3 in c:\\users\\divit\\anaconda3\\lib\\site-packages (from lazypredict) (5.4.3)\n",
            "Requirement already satisfied: scipy==1.5.4 in c:\\users\\divit\\anaconda3\\lib\\site-packages (from lazypredict) (1.5.4)\n",
            "Collecting joblib==1.0.0\n",
            "  Using cached joblib-1.0.0-py3-none-any.whl (302 kB)\n",
            "Requirement already satisfied: numpy==1.19.1 in c:\\users\\divit\\anaconda3\\lib\\site-packages (from lazypredict) (1.19.1)\n",
            "Requirement already satisfied: scikit-learn==0.23.1 in c:\\users\\divit\\anaconda3\\lib\\site-packages (from lazypredict) (0.23.1)\n",
            "Requirement already satisfied: pandas==1.0.5 in c:\\users\\divit\\anaconda3\\lib\\site-packages (from lazypredict) (1.0.5)\n",
            "Collecting tqdm==4.56.0\n",
            "  Using cached tqdm-4.56.0-py2.py3-none-any.whl (72 kB)\n",
            "Collecting lightgbm==2.3.1\n",
            "  Using cached lightgbm-2.3.1-py2.py3-none-win_amd64.whl (544 kB)\n",
            "Requirement already satisfied: PyYAML==5.3.1 in c:\\users\\divit\\anaconda3\\lib\\site-packages (from lazypredict) (5.3.1)\n",
            "Requirement already satisfied: click==7.1.2 in c:\\users\\divit\\anaconda3\\lib\\site-packages (from lazypredict) (7.1.2)\n",
            "Requirement already satisfied: pytz>=2017.2 in c:\\users\\divit\\anaconda3\\lib\\site-packages (from pandas==1.0.5->lazypredict) (2020.1)\n",
            "Requirement already satisfied: python-dateutil>=2.6.1 in c:\\users\\divit\\anaconda3\\lib\\site-packages (from pandas==1.0.5->lazypredict) (2.8.1)\n",
            "Requirement already satisfied: py>=1.5.0 in c:\\users\\divit\\anaconda3\\lib\\site-packages (from pytest==5.4.3->lazypredict) (1.9.0)\n",
            "Requirement already satisfied: packaging in c:\\users\\divit\\anaconda3\\lib\\site-packages (from pytest==5.4.3->lazypredict) (20.4)\n",
            "Requirement already satisfied: attrs>=17.4.0 in c:\\users\\divit\\anaconda3\\lib\\site-packages (from pytest==5.4.3->lazypredict) (19.3.0)\n",
            "Requirement already satisfied: more-itertools>=4.0.0 in c:\\users\\divit\\anaconda3\\lib\\site-packages (from pytest==5.4.3->lazypredict) (8.4.0)\n",
            "Requirement already satisfied: pluggy<1.0,>=0.12 in c:\\users\\divit\\anaconda3\\lib\\site-packages (from pytest==5.4.3->lazypredict) (0.13.1)\n",
            "Requirement already satisfied: wcwidth in c:\\users\\divit\\anaconda3\\lib\\site-packages (from pytest==5.4.3->lazypredict) (0.2.5)\n",
            "Requirement already satisfied: atomicwrites>=1.0 in c:\\users\\divit\\anaconda3\\lib\\site-packages (from pytest==5.4.3->lazypredict) (1.4.0)\n",
            "Requirement already satisfied: colorama in c:\\users\\divit\\anaconda3\\lib\\site-packages (from pytest==5.4.3->lazypredict) (0.4.3)\n",
            "Requirement already satisfied: threadpoolctl>=2.0.0 in c:\\users\\divit\\anaconda3\\lib\\site-packages (from scikit-learn==0.23.1->lazypredict) (2.1.0)\n",
            "Requirement already satisfied: pyparsing>=2.0.2 in c:\\users\\divit\\anaconda3\\lib\\site-packages (from packaging->pytest==5.4.3->lazypredict) (2.4.7)\n",
            "Installing collected packages: joblib, xgboost, tqdm, lightgbm, lazypredict\n",
            "  Attempting uninstall: joblib\n",
            "    Found existing installation: joblib 0.16.0\n",
            "    Uninstalling joblib-0.16.0:\n",
            "      Successfully uninstalled joblib-0.16.0\n",
            "  Attempting uninstall: xgboost\n",
            "    Found existing installation: xgboost 1.4.1\n",
            "    Uninstalling xgboost-1.4.1:\n",
            "      Successfully uninstalled xgboost-1.4.1\n",
            "  Attempting uninstall: tqdm\n",
            "    Found existing installation: tqdm 4.47.0\n",
            "    Uninstalling tqdm-4.47.0:\n",
            "      Successfully uninstalled tqdm-4.47.0\n",
            "Successfully installed joblib-1.0.0 lazypredict-0.2.9 lightgbm-2.3.1 tqdm-4.56.0 xgboost-1.1.1\n"
          ],
          "name": "stdout"
        },
        {
          "output_type": "stream",
          "text": [
            "WARNING: Ignoring invalid distribution -umpy (c:\\users\\divit\\anaconda3\\lib\\site-packages)\n",
            "WARNING: Ignoring invalid distribution -umpy (c:\\users\\divit\\anaconda3\\lib\\site-packages)\n",
            "WARNING: Ignoring invalid distribution -umpy (c:\\users\\divit\\anaconda3\\lib\\site-packages)\n",
            "    WARNING: Ignoring invalid distribution -umpy (c:\\users\\divit\\anaconda3\\lib\\site-packages)\n",
            "    WARNING: Ignoring invalid distribution -umpy (c:\\users\\divit\\anaconda3\\lib\\site-packages)\n",
            "    WARNING: Ignoring invalid distribution -umpy (c:\\users\\divit\\anaconda3\\lib\\site-packages)\n",
            "WARNING: Ignoring invalid distribution -umpy (c:\\users\\divit\\anaconda3\\lib\\site-packages)\n",
            "WARNING: Ignoring invalid distribution -umpy (c:\\users\\divit\\anaconda3\\lib\\site-packages)\n",
            "WARNING: Ignoring invalid distribution -umpy (c:\\users\\divit\\anaconda3\\lib\\site-packages)\n",
            "WARNING: Ignoring invalid distribution -umpy (c:\\users\\divit\\anaconda3\\lib\\site-packages)\n",
            "WARNING: Ignoring invalid distribution -umpy (c:\\users\\divit\\anaconda3\\lib\\site-packages)\n",
            "WARNING: Ignoring invalid distribution -umpy (c:\\users\\divit\\anaconda3\\lib\\site-packages)\n",
            "WARNING: Ignoring invalid distribution -umpy (c:\\users\\divit\\anaconda3\\lib\\site-packages)\n"
          ],
          "name": "stderr"
        }
      ]
    },
    {
      "cell_type": "markdown",
      "metadata": {
        "id": "6fv0J0dmK7B1"
      },
      "source": [
        "# Feature engineering"
      ]
    },
    {
      "cell_type": "code",
      "metadata": {
        "id": "A89f4kQLmKqV"
      },
      "source": [
        "#Encoding\n",
        "dummy_df = pd.get_dummies(df)"
      ],
      "execution_count": null,
      "outputs": []
    },
    {
      "cell_type": "code",
      "metadata": {
        "colab": {
          "base_uri": "https://localhost:8080/",
          "height": 454
        },
        "id": "yrCxvXC_mNFy",
        "outputId": "fdbeb8e2-b9e9-4d54-d6f5-d50a942832b6"
      },
      "source": [
        "dummy_df"
      ],
      "execution_count": null,
      "outputs": [
        {
          "output_type": "execute_result",
          "data": {
            "text/html": [
              "<div>\n",
              "<style scoped>\n",
              "    .dataframe tbody tr th:only-of-type {\n",
              "        vertical-align: middle;\n",
              "    }\n",
              "\n",
              "    .dataframe tbody tr th {\n",
              "        vertical-align: top;\n",
              "    }\n",
              "\n",
              "    .dataframe thead th {\n",
              "        text-align: right;\n",
              "    }\n",
              "</style>\n",
              "<table border=\"1\" class=\"dataframe\">\n",
              "  <thead>\n",
              "    <tr style=\"text-align: right;\">\n",
              "      <th></th>\n",
              "      <th>House</th>\n",
              "      <th>latitude</th>\n",
              "      <th>longitude</th>\n",
              "      <th>num_occupants</th>\n",
              "      <th>year_built</th>\n",
              "      <th>num_appliances</th>\n",
              "      <th>energy_usage_pm</th>\n",
              "      <th>energy_type_grid</th>\n",
              "      <th>energy_type_solar</th>\n",
              "      <th>heating_type_electric</th>\n",
              "      <th>...</th>\n",
              "      <th>insulation_Medium</th>\n",
              "      <th>SmartHouse_Full</th>\n",
              "      <th>SmartHouse_Semi</th>\n",
              "      <th>EPC_rating_A</th>\n",
              "      <th>EPC_rating_B</th>\n",
              "      <th>EPC_rating_C</th>\n",
              "      <th>EPC_rating_D</th>\n",
              "      <th>EPC_rating_E</th>\n",
              "      <th>EPC_rating_F</th>\n",
              "      <th>EPC_rating_G</th>\n",
              "    </tr>\n",
              "  </thead>\n",
              "  <tbody>\n",
              "    <tr>\n",
              "      <th>0</th>\n",
              "      <td>0</td>\n",
              "      <td>50.123504</td>\n",
              "      <td>-6.616434</td>\n",
              "      <td>5</td>\n",
              "      <td>1970</td>\n",
              "      <td>20</td>\n",
              "      <td>737.209626</td>\n",
              "      <td>0</td>\n",
              "      <td>1</td>\n",
              "      <td>1</td>\n",
              "      <td>...</td>\n",
              "      <td>1</td>\n",
              "      <td>0</td>\n",
              "      <td>1</td>\n",
              "      <td>0</td>\n",
              "      <td>0</td>\n",
              "      <td>1</td>\n",
              "      <td>0</td>\n",
              "      <td>0</td>\n",
              "      <td>0</td>\n",
              "      <td>0</td>\n",
              "    </tr>\n",
              "    <tr>\n",
              "      <th>1</th>\n",
              "      <td>1</td>\n",
              "      <td>56.708603</td>\n",
              "      <td>-0.457610</td>\n",
              "      <td>3</td>\n",
              "      <td>1995</td>\n",
              "      <td>32</td>\n",
              "      <td>909.524100</td>\n",
              "      <td>0</td>\n",
              "      <td>1</td>\n",
              "      <td>1</td>\n",
              "      <td>...</td>\n",
              "      <td>0</td>\n",
              "      <td>0</td>\n",
              "      <td>1</td>\n",
              "      <td>0</td>\n",
              "      <td>1</td>\n",
              "      <td>0</td>\n",
              "      <td>0</td>\n",
              "      <td>0</td>\n",
              "      <td>0</td>\n",
              "      <td>0</td>\n",
              "    </tr>\n",
              "    <tr>\n",
              "      <th>2</th>\n",
              "      <td>2</td>\n",
              "      <td>59.486333</td>\n",
              "      <td>-0.625680</td>\n",
              "      <td>3</td>\n",
              "      <td>1967</td>\n",
              "      <td>48</td>\n",
              "      <td>957.015634</td>\n",
              "      <td>0</td>\n",
              "      <td>1</td>\n",
              "      <td>1</td>\n",
              "      <td>...</td>\n",
              "      <td>1</td>\n",
              "      <td>0</td>\n",
              "      <td>1</td>\n",
              "      <td>0</td>\n",
              "      <td>0</td>\n",
              "      <td>0</td>\n",
              "      <td>0</td>\n",
              "      <td>1</td>\n",
              "      <td>0</td>\n",
              "      <td>0</td>\n",
              "    </tr>\n",
              "    <tr>\n",
              "      <th>3</th>\n",
              "      <td>3</td>\n",
              "      <td>55.997358</td>\n",
              "      <td>-0.498099</td>\n",
              "      <td>4</td>\n",
              "      <td>1988</td>\n",
              "      <td>38</td>\n",
              "      <td>1838.451339</td>\n",
              "      <td>0</td>\n",
              "      <td>1</td>\n",
              "      <td>1</td>\n",
              "      <td>...</td>\n",
              "      <td>0</td>\n",
              "      <td>1</td>\n",
              "      <td>0</td>\n",
              "      <td>0</td>\n",
              "      <td>0</td>\n",
              "      <td>0</td>\n",
              "      <td>0</td>\n",
              "      <td>0</td>\n",
              "      <td>1</td>\n",
              "      <td>0</td>\n",
              "    </tr>\n",
              "    <tr>\n",
              "      <th>4</th>\n",
              "      <td>4</td>\n",
              "      <td>56.043025</td>\n",
              "      <td>-4.002039</td>\n",
              "      <td>4</td>\n",
              "      <td>1970</td>\n",
              "      <td>37</td>\n",
              "      <td>1101.326663</td>\n",
              "      <td>0</td>\n",
              "      <td>1</td>\n",
              "      <td>1</td>\n",
              "      <td>...</td>\n",
              "      <td>1</td>\n",
              "      <td>1</td>\n",
              "      <td>0</td>\n",
              "      <td>0</td>\n",
              "      <td>0</td>\n",
              "      <td>0</td>\n",
              "      <td>0</td>\n",
              "      <td>1</td>\n",
              "      <td>0</td>\n",
              "      <td>0</td>\n",
              "    </tr>\n",
              "    <tr>\n",
              "      <th>...</th>\n",
              "      <td>...</td>\n",
              "      <td>...</td>\n",
              "      <td>...</td>\n",
              "      <td>...</td>\n",
              "      <td>...</td>\n",
              "      <td>...</td>\n",
              "      <td>...</td>\n",
              "      <td>...</td>\n",
              "      <td>...</td>\n",
              "      <td>...</td>\n",
              "      <td>...</td>\n",
              "      <td>...</td>\n",
              "      <td>...</td>\n",
              "      <td>...</td>\n",
              "      <td>...</td>\n",
              "      <td>...</td>\n",
              "      <td>...</td>\n",
              "      <td>...</td>\n",
              "      <td>...</td>\n",
              "      <td>...</td>\n",
              "      <td>...</td>\n",
              "    </tr>\n",
              "    <tr>\n",
              "      <th>39995</th>\n",
              "      <td>19995</td>\n",
              "      <td>50.232064</td>\n",
              "      <td>-0.041656</td>\n",
              "      <td>5</td>\n",
              "      <td>1933</td>\n",
              "      <td>32</td>\n",
              "      <td>1662.740557</td>\n",
              "      <td>0</td>\n",
              "      <td>1</td>\n",
              "      <td>1</td>\n",
              "      <td>...</td>\n",
              "      <td>1</td>\n",
              "      <td>0</td>\n",
              "      <td>1</td>\n",
              "      <td>0</td>\n",
              "      <td>0</td>\n",
              "      <td>0</td>\n",
              "      <td>1</td>\n",
              "      <td>0</td>\n",
              "      <td>0</td>\n",
              "      <td>0</td>\n",
              "    </tr>\n",
              "    <tr>\n",
              "      <th>39996</th>\n",
              "      <td>19996</td>\n",
              "      <td>54.620908</td>\n",
              "      <td>0.682945</td>\n",
              "      <td>1</td>\n",
              "      <td>1960</td>\n",
              "      <td>42</td>\n",
              "      <td>1514.412651</td>\n",
              "      <td>0</td>\n",
              "      <td>1</td>\n",
              "      <td>1</td>\n",
              "      <td>...</td>\n",
              "      <td>1</td>\n",
              "      <td>1</td>\n",
              "      <td>0</td>\n",
              "      <td>0</td>\n",
              "      <td>0</td>\n",
              "      <td>0</td>\n",
              "      <td>0</td>\n",
              "      <td>1</td>\n",
              "      <td>0</td>\n",
              "      <td>0</td>\n",
              "    </tr>\n",
              "    <tr>\n",
              "      <th>39997</th>\n",
              "      <td>19997</td>\n",
              "      <td>52.016146</td>\n",
              "      <td>-1.274549</td>\n",
              "      <td>5</td>\n",
              "      <td>1967</td>\n",
              "      <td>27</td>\n",
              "      <td>1328.893336</td>\n",
              "      <td>0</td>\n",
              "      <td>1</td>\n",
              "      <td>1</td>\n",
              "      <td>...</td>\n",
              "      <td>1</td>\n",
              "      <td>0</td>\n",
              "      <td>1</td>\n",
              "      <td>0</td>\n",
              "      <td>0</td>\n",
              "      <td>1</td>\n",
              "      <td>0</td>\n",
              "      <td>0</td>\n",
              "      <td>0</td>\n",
              "      <td>0</td>\n",
              "    </tr>\n",
              "    <tr>\n",
              "      <th>39998</th>\n",
              "      <td>19998</td>\n",
              "      <td>53.741860</td>\n",
              "      <td>-2.846520</td>\n",
              "      <td>3</td>\n",
              "      <td>1963</td>\n",
              "      <td>11</td>\n",
              "      <td>1364.354161</td>\n",
              "      <td>0</td>\n",
              "      <td>1</td>\n",
              "      <td>1</td>\n",
              "      <td>...</td>\n",
              "      <td>0</td>\n",
              "      <td>1</td>\n",
              "      <td>0</td>\n",
              "      <td>1</td>\n",
              "      <td>0</td>\n",
              "      <td>0</td>\n",
              "      <td>0</td>\n",
              "      <td>0</td>\n",
              "      <td>0</td>\n",
              "      <td>0</td>\n",
              "    </tr>\n",
              "    <tr>\n",
              "      <th>39999</th>\n",
              "      <td>19999</td>\n",
              "      <td>51.368826</td>\n",
              "      <td>-5.542727</td>\n",
              "      <td>2</td>\n",
              "      <td>1948</td>\n",
              "      <td>22</td>\n",
              "      <td>1150.384674</td>\n",
              "      <td>0</td>\n",
              "      <td>1</td>\n",
              "      <td>1</td>\n",
              "      <td>...</td>\n",
              "      <td>1</td>\n",
              "      <td>1</td>\n",
              "      <td>0</td>\n",
              "      <td>0</td>\n",
              "      <td>0</td>\n",
              "      <td>0</td>\n",
              "      <td>0</td>\n",
              "      <td>1</td>\n",
              "      <td>0</td>\n",
              "      <td>0</td>\n",
              "    </tr>\n",
              "  </tbody>\n",
              "</table>\n",
              "<p>40000 rows × 40 columns</p>\n",
              "</div>"
            ],
            "text/plain": [
              "       House   latitude  longitude  num_occupants  year_built  num_appliances  \\\n",
              "0          0  50.123504  -6.616434              5        1970              20   \n",
              "1          1  56.708603  -0.457610              3        1995              32   \n",
              "2          2  59.486333  -0.625680              3        1967              48   \n",
              "3          3  55.997358  -0.498099              4        1988              38   \n",
              "4          4  56.043025  -4.002039              4        1970              37   \n",
              "...      ...        ...        ...            ...         ...             ...   \n",
              "39995  19995  50.232064  -0.041656              5        1933              32   \n",
              "39996  19996  54.620908   0.682945              1        1960              42   \n",
              "39997  19997  52.016146  -1.274549              5        1967              27   \n",
              "39998  19998  53.741860  -2.846520              3        1963              11   \n",
              "39999  19999  51.368826  -5.542727              2        1948              22   \n",
              "\n",
              "       energy_usage_pm  energy_type_grid  energy_type_solar  \\\n",
              "0           737.209626                 0                  1   \n",
              "1           909.524100                 0                  1   \n",
              "2           957.015634                 0                  1   \n",
              "3          1838.451339                 0                  1   \n",
              "4          1101.326663                 0                  1   \n",
              "...                ...               ...                ...   \n",
              "39995      1662.740557                 0                  1   \n",
              "39996      1514.412651                 0                  1   \n",
              "39997      1328.893336                 0                  1   \n",
              "39998      1364.354161                 0                  1   \n",
              "39999      1150.384674                 0                  1   \n",
              "\n",
              "       heating_type_electric  ...  insulation_Medium  SmartHouse_Full  \\\n",
              "0                          1  ...                  1                0   \n",
              "1                          1  ...                  0                0   \n",
              "2                          1  ...                  1                0   \n",
              "3                          1  ...                  0                1   \n",
              "4                          1  ...                  1                1   \n",
              "...                      ...  ...                ...              ...   \n",
              "39995                      1  ...                  1                0   \n",
              "39996                      1  ...                  1                1   \n",
              "39997                      1  ...                  1                0   \n",
              "39998                      1  ...                  0                1   \n",
              "39999                      1  ...                  1                1   \n",
              "\n",
              "       SmartHouse_Semi  EPC_rating_A  EPC_rating_B  EPC_rating_C  \\\n",
              "0                    1             0             0             1   \n",
              "1                    1             0             1             0   \n",
              "2                    1             0             0             0   \n",
              "3                    0             0             0             0   \n",
              "4                    0             0             0             0   \n",
              "...                ...           ...           ...           ...   \n",
              "39995                1             0             0             0   \n",
              "39996                0             0             0             0   \n",
              "39997                1             0             0             1   \n",
              "39998                0             1             0             0   \n",
              "39999                0             0             0             0   \n",
              "\n",
              "       EPC_rating_D  EPC_rating_E  EPC_rating_F  EPC_rating_G  \n",
              "0                 0             0             0             0  \n",
              "1                 0             0             0             0  \n",
              "2                 0             1             0             0  \n",
              "3                 0             0             1             0  \n",
              "4                 0             1             0             0  \n",
              "...             ...           ...           ...           ...  \n",
              "39995             1             0             0             0  \n",
              "39996             0             1             0             0  \n",
              "39997             0             0             0             0  \n",
              "39998             0             0             0             0  \n",
              "39999             0             1             0             0  \n",
              "\n",
              "[40000 rows x 40 columns]"
            ]
          },
          "metadata": {
            "tags": []
          },
          "execution_count": 23
        }
      ]
    },
    {
      "cell_type": "code",
      "metadata": {
        "colab": {
          "base_uri": "https://localhost:8080/"
        },
        "id": "7lr_iSyj_tW5",
        "outputId": "0758334e-4b2b-4e74-abd1-36c4fa798663"
      },
      "source": [
        "dummy_df.columns"
      ],
      "execution_count": null,
      "outputs": [
        {
          "output_type": "execute_result",
          "data": {
            "text/plain": [
              "Index(['House', 'latitude', 'longitude', 'num_occupants', 'year_built',\n",
              "       'num_appliances', 'energy_usage_pm', 'energy_type_grid',\n",
              "       'energy_type_solar', 'heating_type_electric', 'heating_type_heat pump',\n",
              "       'heating_type_natural gas', 'glazing_types_double',\n",
              "       'glazing_types_single', 'glazing_types_triple', 'vehicle_type_electric',\n",
              "       'vehicle_type_general', 'domicile_type_detached',\n",
              "       'domicile_type_semi detached', 'domicile_type_terraced',\n",
              "       'season_Summer', 'season_Winter', 'Temp_cat_High', 'Temp_cat_Low',\n",
              "       'Temp_cat_Medium', 'house_size_Large', 'house_size_Medium',\n",
              "       'house_size_Small', 'insulation_High', 'insulation_Low',\n",
              "       'insulation_Medium', 'SmartHouse_Full', 'SmartHouse_Semi',\n",
              "       'EPC_rating_A', 'EPC_rating_B', 'EPC_rating_C', 'EPC_rating_D',\n",
              "       'EPC_rating_E', 'EPC_rating_F', 'EPC_rating_G'],\n",
              "      dtype='object')"
            ]
          },
          "metadata": {
            "tags": []
          },
          "execution_count": 24
        }
      ]
    },
    {
      "cell_type": "code",
      "metadata": {
        "id": "pkharVyQaU7h"
      },
      "source": [
        "#!pip install lazypredict"
      ],
      "execution_count": null,
      "outputs": []
    },
    {
      "cell_type": "markdown",
      "metadata": {
        "id": "XUxbeMkdK7B5"
      },
      "source": [
        "# Modeling using AutoML"
      ]
    },
    {
      "cell_type": "code",
      "metadata": {
        "colab": {
          "base_uri": "https://localhost:8080/"
        },
        "id": "SB1-w6zBknzN",
        "scrolled": true,
        "outputId": "9e3ca376-4a06-4474-d66b-3b79f8fac30a"
      },
      "source": [
        "#Pasted from code block\n",
        "dt_p = dummy_df\n",
        "import lazypredict\n",
        "from lazypredict.Supervised import LazyRegressor\n",
        "from sklearn.model_selection import train_test_split\n",
        "\n",
        "# Load dataset\n",
        "#data = dt_p\n",
        "\n",
        "X = dummy_df.drop('energy_usage_pm', axis=1)\n",
        "y = dummy_df['energy_usage_pm']\n",
        "\n",
        "X_train, X_test, y_train, y_test = train_test_split(X, y,test_size=.2,random_state =42)\n",
        "\n",
        "# Defines and builds the lazyclassifier\n",
        "reg = LazyRegressor(verbose=0,ignore_warnings=False, custom_metric=None)\n",
        "models_train,predictions_train = reg.fit(X_train, X_train, y_train, y_train)\n",
        "models_test,predictions_test = reg.fit(X_train, X_test, y_train, y_test)\n",
        "\n",
        "# Prints the model performance\n",
        "models_train"
      ],
      "execution_count": null,
      "outputs": [
        {
          "output_type": "stream",
          "text": [
            "C:\\Users\\Divit\\anaconda3\\lib\\site-packages\\sklearn\\utils\\deprecation.py:143: FutureWarning: The sklearn.utils.testing module is  deprecated in version 0.22 and will be removed in version 0.24. The corresponding classes / functions should instead be imported from sklearn.utils. Anything that cannot be imported from sklearn.utils is now part of the private API.\n",
            "  warnings.warn(message, FutureWarning)\n",
            "100%|██████████████████████████████████████████████████████████████████████████████████| 42/42 [13:56<00:00, 19.93s/it]\n",
            "100%|███████████████████████████████████████████████████████████████████████████████| 42/42 [00:00<00:00, 21061.78it/s]"
          ],
          "name": "stderr"
        },
        {
          "output_type": "stream",
          "text": [
            "tuple model failed to execute\n",
            "'tuple' object is not callable\n",
            "tuple model failed to execute\n",
            "'tuple' object is not callable\n",
            "tuple model failed to execute\n",
            "'tuple' object is not callable\n",
            "tuple model failed to execute\n",
            "'tuple' object is not callable\n",
            "tuple model failed to execute\n",
            "'tuple' object is not callable\n",
            "tuple model failed to execute\n",
            "'tuple' object is not callable\n",
            "tuple model failed to execute\n",
            "'tuple' object is not callable\n",
            "tuple model failed to execute\n",
            "'tuple' object is not callable\n",
            "tuple model failed to execute\n",
            "'tuple' object is not callable\n",
            "tuple model failed to execute\n",
            "'tuple' object is not callable\n",
            "tuple model failed to execute\n",
            "'tuple' object is not callable\n",
            "tuple model failed to execute\n",
            "'tuple' object is not callable\n",
            "tuple model failed to execute\n",
            "'tuple' object is not callable\n",
            "tuple model failed to execute\n",
            "'tuple' object is not callable\n",
            "tuple model failed to execute\n",
            "'tuple' object is not callable\n",
            "tuple model failed to execute\n",
            "'tuple' object is not callable\n",
            "tuple model failed to execute\n",
            "'tuple' object is not callable\n",
            "tuple model failed to execute\n",
            "'tuple' object is not callable\n",
            "tuple model failed to execute\n",
            "'tuple' object is not callable\n",
            "tuple model failed to execute\n",
            "'tuple' object is not callable\n",
            "tuple model failed to execute\n",
            "'tuple' object is not callable\n",
            "tuple model failed to execute\n",
            "'tuple' object is not callable\n",
            "tuple model failed to execute\n",
            "'tuple' object is not callable\n",
            "tuple model failed to execute\n",
            "'tuple' object is not callable\n",
            "tuple model failed to execute\n",
            "'tuple' object is not callable\n",
            "tuple model failed to execute\n",
            "'tuple' object is not callable\n",
            "tuple model failed to execute\n",
            "'tuple' object is not callable\n",
            "tuple model failed to execute\n",
            "'tuple' object is not callable\n",
            "tuple model failed to execute\n",
            "'tuple' object is not callable\n",
            "tuple model failed to execute\n",
            "'tuple' object is not callable\n",
            "tuple model failed to execute\n",
            "'tuple' object is not callable\n",
            "tuple model failed to execute\n",
            "'tuple' object is not callable\n",
            "tuple model failed to execute\n",
            "'tuple' object is not callable\n",
            "tuple model failed to execute\n",
            "'tuple' object is not callable\n",
            "tuple model failed to execute\n",
            "'tuple' object is not callable\n",
            "tuple model failed to execute\n",
            "'tuple' object is not callable\n",
            "tuple model failed to execute\n",
            "'tuple' object is not callable\n",
            "tuple model failed to execute\n",
            "'tuple' object is not callable\n",
            "tuple model failed to execute\n",
            "'tuple' object is not callable\n",
            "tuple model failed to execute\n",
            "'tuple' object is not callable\n",
            "tuple model failed to execute\n",
            "'tuple' object is not callable\n",
            "tuple model failed to execute\n",
            "'tuple' object is not callable\n"
          ],
          "name": "stdout"
        },
        {
          "output_type": "stream",
          "text": [
            "\n"
          ],
          "name": "stderr"
        },
        {
          "output_type": "execute_result",
          "data": {
            "text/html": [
              "<div>\n",
              "<style scoped>\n",
              "    .dataframe tbody tr th:only-of-type {\n",
              "        vertical-align: middle;\n",
              "    }\n",
              "\n",
              "    .dataframe tbody tr th {\n",
              "        vertical-align: top;\n",
              "    }\n",
              "\n",
              "    .dataframe thead th {\n",
              "        text-align: right;\n",
              "    }\n",
              "</style>\n",
              "<table border=\"1\" class=\"dataframe\">\n",
              "  <thead>\n",
              "    <tr style=\"text-align: right;\">\n",
              "      <th></th>\n",
              "      <th>Adjusted R-Squared</th>\n",
              "      <th>R-Squared</th>\n",
              "      <th>RMSE</th>\n",
              "      <th>Time Taken</th>\n",
              "    </tr>\n",
              "    <tr>\n",
              "      <th>Model</th>\n",
              "      <th></th>\n",
              "      <th></th>\n",
              "      <th></th>\n",
              "      <th></th>\n",
              "    </tr>\n",
              "  </thead>\n",
              "  <tbody>\n",
              "    <tr>\n",
              "      <th>DecisionTreeRegressor</th>\n",
              "      <td>1.00</td>\n",
              "      <td>1.00</td>\n",
              "      <td>0.00</td>\n",
              "      <td>0.35</td>\n",
              "    </tr>\n",
              "    <tr>\n",
              "      <th>ExtraTreeRegressor</th>\n",
              "      <td>1.00</td>\n",
              "      <td>1.00</td>\n",
              "      <td>0.00</td>\n",
              "      <td>0.23</td>\n",
              "    </tr>\n",
              "    <tr>\n",
              "      <th>ExtraTreesRegressor</th>\n",
              "      <td>1.00</td>\n",
              "      <td>1.00</td>\n",
              "      <td>0.00</td>\n",
              "      <td>13.11</td>\n",
              "    </tr>\n",
              "    <tr>\n",
              "      <th>GaussianProcessRegressor</th>\n",
              "      <td>1.00</td>\n",
              "      <td>1.00</td>\n",
              "      <td>0.00</td>\n",
              "      <td>349.84</td>\n",
              "    </tr>\n",
              "    <tr>\n",
              "      <th>RandomForestRegressor</th>\n",
              "      <td>0.96</td>\n",
              "      <td>0.96</td>\n",
              "      <td>96.31</td>\n",
              "      <td>16.54</td>\n",
              "    </tr>\n",
              "    <tr>\n",
              "      <th>BaggingRegressor</th>\n",
              "      <td>0.94</td>\n",
              "      <td>0.94</td>\n",
              "      <td>112.85</td>\n",
              "      <td>1.79</td>\n",
              "    </tr>\n",
              "    <tr>\n",
              "      <th>XGBRegressor</th>\n",
              "      <td>0.80</td>\n",
              "      <td>0.80</td>\n",
              "      <td>208.58</td>\n",
              "      <td>1.52</td>\n",
              "    </tr>\n",
              "    <tr>\n",
              "      <th>KNeighborsRegressor</th>\n",
              "      <td>0.78</td>\n",
              "      <td>0.78</td>\n",
              "      <td>220.04</td>\n",
              "      <td>76.47</td>\n",
              "    </tr>\n",
              "    <tr>\n",
              "      <th>LGBMRegressor</th>\n",
              "      <td>0.76</td>\n",
              "      <td>0.76</td>\n",
              "      <td>229.38</td>\n",
              "      <td>0.41</td>\n",
              "    </tr>\n",
              "    <tr>\n",
              "      <th>HistGradientBoostingRegressor</th>\n",
              "      <td>0.76</td>\n",
              "      <td>0.76</td>\n",
              "      <td>230.19</td>\n",
              "      <td>1.91</td>\n",
              "    </tr>\n",
              "    <tr>\n",
              "      <th>MLPRegressor</th>\n",
              "      <td>0.75</td>\n",
              "      <td>0.75</td>\n",
              "      <td>237.23</td>\n",
              "      <td>34.50</td>\n",
              "    </tr>\n",
              "    <tr>\n",
              "      <th>PoissonRegressor</th>\n",
              "      <td>0.74</td>\n",
              "      <td>0.74</td>\n",
              "      <td>240.16</td>\n",
              "      <td>0.14</td>\n",
              "    </tr>\n",
              "    <tr>\n",
              "      <th>GradientBoostingRegressor</th>\n",
              "      <td>0.74</td>\n",
              "      <td>0.74</td>\n",
              "      <td>241.60</td>\n",
              "      <td>5.65</td>\n",
              "    </tr>\n",
              "    <tr>\n",
              "      <th>Ridge</th>\n",
              "      <td>0.71</td>\n",
              "      <td>0.71</td>\n",
              "      <td>252.39</td>\n",
              "      <td>0.09</td>\n",
              "    </tr>\n",
              "    <tr>\n",
              "      <th>RidgeCV</th>\n",
              "      <td>0.71</td>\n",
              "      <td>0.71</td>\n",
              "      <td>252.39</td>\n",
              "      <td>0.14</td>\n",
              "    </tr>\n",
              "    <tr>\n",
              "      <th>BayesianRidge</th>\n",
              "      <td>0.71</td>\n",
              "      <td>0.71</td>\n",
              "      <td>252.39</td>\n",
              "      <td>0.13</td>\n",
              "    </tr>\n",
              "    <tr>\n",
              "      <th>LassoCV</th>\n",
              "      <td>0.71</td>\n",
              "      <td>0.71</td>\n",
              "      <td>252.39</td>\n",
              "      <td>0.81</td>\n",
              "    </tr>\n",
              "    <tr>\n",
              "      <th>Lasso</th>\n",
              "      <td>0.71</td>\n",
              "      <td>0.71</td>\n",
              "      <td>252.43</td>\n",
              "      <td>0.50</td>\n",
              "    </tr>\n",
              "    <tr>\n",
              "      <th>LinearRegression</th>\n",
              "      <td>0.71</td>\n",
              "      <td>0.71</td>\n",
              "      <td>252.45</td>\n",
              "      <td>0.13</td>\n",
              "    </tr>\n",
              "    <tr>\n",
              "      <th>TransformedTargetRegressor</th>\n",
              "      <td>0.71</td>\n",
              "      <td>0.71</td>\n",
              "      <td>252.45</td>\n",
              "      <td>0.10</td>\n",
              "    </tr>\n",
              "    <tr>\n",
              "      <th>SGDRegressor</th>\n",
              "      <td>0.71</td>\n",
              "      <td>0.71</td>\n",
              "      <td>253.29</td>\n",
              "      <td>0.28</td>\n",
              "    </tr>\n",
              "    <tr>\n",
              "      <th>HuberRegressor</th>\n",
              "      <td>0.71</td>\n",
              "      <td>0.71</td>\n",
              "      <td>253.31</td>\n",
              "      <td>0.35</td>\n",
              "    </tr>\n",
              "    <tr>\n",
              "      <th>LinearSVR</th>\n",
              "      <td>0.71</td>\n",
              "      <td>0.71</td>\n",
              "      <td>255.57</td>\n",
              "      <td>0.17</td>\n",
              "    </tr>\n",
              "    <tr>\n",
              "      <th>ElasticNetCV</th>\n",
              "      <td>0.70</td>\n",
              "      <td>0.70</td>\n",
              "      <td>256.57</td>\n",
              "      <td>0.48</td>\n",
              "    </tr>\n",
              "    <tr>\n",
              "      <th>PassiveAggressiveRegressor</th>\n",
              "      <td>0.68</td>\n",
              "      <td>0.68</td>\n",
              "      <td>267.73</td>\n",
              "      <td>0.16</td>\n",
              "    </tr>\n",
              "    <tr>\n",
              "      <th>ElasticNet</th>\n",
              "      <td>0.67</td>\n",
              "      <td>0.67</td>\n",
              "      <td>268.84</td>\n",
              "      <td>0.10</td>\n",
              "    </tr>\n",
              "    <tr>\n",
              "      <th>LassoLarsCV</th>\n",
              "      <td>0.67</td>\n",
              "      <td>0.67</td>\n",
              "      <td>272.48</td>\n",
              "      <td>0.28</td>\n",
              "    </tr>\n",
              "    <tr>\n",
              "      <th>Lars</th>\n",
              "      <td>0.67</td>\n",
              "      <td>0.67</td>\n",
              "      <td>272.48</td>\n",
              "      <td>0.13</td>\n",
              "    </tr>\n",
              "    <tr>\n",
              "      <th>LassoLarsIC</th>\n",
              "      <td>0.67</td>\n",
              "      <td>0.67</td>\n",
              "      <td>272.48</td>\n",
              "      <td>0.12</td>\n",
              "    </tr>\n",
              "    <tr>\n",
              "      <th>GammaRegressor</th>\n",
              "      <td>0.63</td>\n",
              "      <td>0.63</td>\n",
              "      <td>284.98</td>\n",
              "      <td>0.13</td>\n",
              "    </tr>\n",
              "    <tr>\n",
              "      <th>TweedieRegressor</th>\n",
              "      <td>0.62</td>\n",
              "      <td>0.62</td>\n",
              "      <td>288.88</td>\n",
              "      <td>0.10</td>\n",
              "    </tr>\n",
              "    <tr>\n",
              "      <th>GeneralizedLinearRegressor</th>\n",
              "      <td>0.62</td>\n",
              "      <td>0.62</td>\n",
              "      <td>288.88</td>\n",
              "      <td>0.25</td>\n",
              "    </tr>\n",
              "    <tr>\n",
              "      <th>SVR</th>\n",
              "      <td>0.57</td>\n",
              "      <td>0.57</td>\n",
              "      <td>309.48</td>\n",
              "      <td>105.57</td>\n",
              "    </tr>\n",
              "    <tr>\n",
              "      <th>LarsCV</th>\n",
              "      <td>0.56</td>\n",
              "      <td>0.56</td>\n",
              "      <td>311.35</td>\n",
              "      <td>0.38</td>\n",
              "    </tr>\n",
              "    <tr>\n",
              "      <th>NuSVR</th>\n",
              "      <td>0.55</td>\n",
              "      <td>0.55</td>\n",
              "      <td>317.31</td>\n",
              "      <td>96.84</td>\n",
              "    </tr>\n",
              "    <tr>\n",
              "      <th>OrthogonalMatchingPursuitCV</th>\n",
              "      <td>0.54</td>\n",
              "      <td>0.54</td>\n",
              "      <td>318.99</td>\n",
              "      <td>0.24</td>\n",
              "    </tr>\n",
              "    <tr>\n",
              "      <th>AdaBoostRegressor</th>\n",
              "      <td>0.54</td>\n",
              "      <td>0.54</td>\n",
              "      <td>321.06</td>\n",
              "      <td>3.03</td>\n",
              "    </tr>\n",
              "    <tr>\n",
              "      <th>OrthogonalMatchingPursuit</th>\n",
              "      <td>0.42</td>\n",
              "      <td>0.42</td>\n",
              "      <td>360.05</td>\n",
              "      <td>0.09</td>\n",
              "    </tr>\n",
              "    <tr>\n",
              "      <th>LassoLars</th>\n",
              "      <td>0.06</td>\n",
              "      <td>0.06</td>\n",
              "      <td>457.89</td>\n",
              "      <td>0.10</td>\n",
              "    </tr>\n",
              "    <tr>\n",
              "      <th>DummyRegressor</th>\n",
              "      <td>-0.00</td>\n",
              "      <td>0.00</td>\n",
              "      <td>471.48</td>\n",
              "      <td>0.08</td>\n",
              "    </tr>\n",
              "    <tr>\n",
              "      <th>KernelRidge</th>\n",
              "      <td>-6.53</td>\n",
              "      <td>-6.52</td>\n",
              "      <td>1293.15</td>\n",
              "      <td>123.12</td>\n",
              "    </tr>\n",
              "    <tr>\n",
              "      <th>RANSACRegressor</th>\n",
              "      <td>-1878995673133555122176.00</td>\n",
              "      <td>-1876705575591375536128.00</td>\n",
              "      <td>20424953014755.30</td>\n",
              "      <td>0.41</td>\n",
              "    </tr>\n",
              "  </tbody>\n",
              "</table>\n",
              "</div>"
            ],
            "text/plain": [
              "                                      Adjusted R-Squared  \\\n",
              "Model                                                      \n",
              "DecisionTreeRegressor                               1.00   \n",
              "ExtraTreeRegressor                                  1.00   \n",
              "ExtraTreesRegressor                                 1.00   \n",
              "GaussianProcessRegressor                            1.00   \n",
              "RandomForestRegressor                               0.96   \n",
              "BaggingRegressor                                    0.94   \n",
              "XGBRegressor                                        0.80   \n",
              "KNeighborsRegressor                                 0.78   \n",
              "LGBMRegressor                                       0.76   \n",
              "HistGradientBoostingRegressor                       0.76   \n",
              "MLPRegressor                                        0.75   \n",
              "PoissonRegressor                                    0.74   \n",
              "GradientBoostingRegressor                           0.74   \n",
              "Ridge                                               0.71   \n",
              "RidgeCV                                             0.71   \n",
              "BayesianRidge                                       0.71   \n",
              "LassoCV                                             0.71   \n",
              "Lasso                                               0.71   \n",
              "LinearRegression                                    0.71   \n",
              "TransformedTargetRegressor                          0.71   \n",
              "SGDRegressor                                        0.71   \n",
              "HuberRegressor                                      0.71   \n",
              "LinearSVR                                           0.71   \n",
              "ElasticNetCV                                        0.70   \n",
              "PassiveAggressiveRegressor                          0.68   \n",
              "ElasticNet                                          0.67   \n",
              "LassoLarsCV                                         0.67   \n",
              "Lars                                                0.67   \n",
              "LassoLarsIC                                         0.67   \n",
              "GammaRegressor                                      0.63   \n",
              "TweedieRegressor                                    0.62   \n",
              "GeneralizedLinearRegressor                          0.62   \n",
              "SVR                                                 0.57   \n",
              "LarsCV                                              0.56   \n",
              "NuSVR                                               0.55   \n",
              "OrthogonalMatchingPursuitCV                         0.54   \n",
              "AdaBoostRegressor                                   0.54   \n",
              "OrthogonalMatchingPursuit                           0.42   \n",
              "LassoLars                                           0.06   \n",
              "DummyRegressor                                     -0.00   \n",
              "KernelRidge                                        -6.53   \n",
              "RANSACRegressor               -1878995673133555122176.00   \n",
              "\n",
              "                                               R-Squared              RMSE  \\\n",
              "Model                                                                        \n",
              "DecisionTreeRegressor                               1.00              0.00   \n",
              "ExtraTreeRegressor                                  1.00              0.00   \n",
              "ExtraTreesRegressor                                 1.00              0.00   \n",
              "GaussianProcessRegressor                            1.00              0.00   \n",
              "RandomForestRegressor                               0.96             96.31   \n",
              "BaggingRegressor                                    0.94            112.85   \n",
              "XGBRegressor                                        0.80            208.58   \n",
              "KNeighborsRegressor                                 0.78            220.04   \n",
              "LGBMRegressor                                       0.76            229.38   \n",
              "HistGradientBoostingRegressor                       0.76            230.19   \n",
              "MLPRegressor                                        0.75            237.23   \n",
              "PoissonRegressor                                    0.74            240.16   \n",
              "GradientBoostingRegressor                           0.74            241.60   \n",
              "Ridge                                               0.71            252.39   \n",
              "RidgeCV                                             0.71            252.39   \n",
              "BayesianRidge                                       0.71            252.39   \n",
              "LassoCV                                             0.71            252.39   \n",
              "Lasso                                               0.71            252.43   \n",
              "LinearRegression                                    0.71            252.45   \n",
              "TransformedTargetRegressor                          0.71            252.45   \n",
              "SGDRegressor                                        0.71            253.29   \n",
              "HuberRegressor                                      0.71            253.31   \n",
              "LinearSVR                                           0.71            255.57   \n",
              "ElasticNetCV                                        0.70            256.57   \n",
              "PassiveAggressiveRegressor                          0.68            267.73   \n",
              "ElasticNet                                          0.67            268.84   \n",
              "LassoLarsCV                                         0.67            272.48   \n",
              "Lars                                                0.67            272.48   \n",
              "LassoLarsIC                                         0.67            272.48   \n",
              "GammaRegressor                                      0.63            284.98   \n",
              "TweedieRegressor                                    0.62            288.88   \n",
              "GeneralizedLinearRegressor                          0.62            288.88   \n",
              "SVR                                                 0.57            309.48   \n",
              "LarsCV                                              0.56            311.35   \n",
              "NuSVR                                               0.55            317.31   \n",
              "OrthogonalMatchingPursuitCV                         0.54            318.99   \n",
              "AdaBoostRegressor                                   0.54            321.06   \n",
              "OrthogonalMatchingPursuit                           0.42            360.05   \n",
              "LassoLars                                           0.06            457.89   \n",
              "DummyRegressor                                      0.00            471.48   \n",
              "KernelRidge                                        -6.52           1293.15   \n",
              "RANSACRegressor               -1876705575591375536128.00 20424953014755.30   \n",
              "\n",
              "                               Time Taken  \n",
              "Model                                      \n",
              "DecisionTreeRegressor                0.35  \n",
              "ExtraTreeRegressor                   0.23  \n",
              "ExtraTreesRegressor                 13.11  \n",
              "GaussianProcessRegressor           349.84  \n",
              "RandomForestRegressor               16.54  \n",
              "BaggingRegressor                     1.79  \n",
              "XGBRegressor                         1.52  \n",
              "KNeighborsRegressor                 76.47  \n",
              "LGBMRegressor                        0.41  \n",
              "HistGradientBoostingRegressor        1.91  \n",
              "MLPRegressor                        34.50  \n",
              "PoissonRegressor                     0.14  \n",
              "GradientBoostingRegressor            5.65  \n",
              "Ridge                                0.09  \n",
              "RidgeCV                              0.14  \n",
              "BayesianRidge                        0.13  \n",
              "LassoCV                              0.81  \n",
              "Lasso                                0.50  \n",
              "LinearRegression                     0.13  \n",
              "TransformedTargetRegressor           0.10  \n",
              "SGDRegressor                         0.28  \n",
              "HuberRegressor                       0.35  \n",
              "LinearSVR                            0.17  \n",
              "ElasticNetCV                         0.48  \n",
              "PassiveAggressiveRegressor           0.16  \n",
              "ElasticNet                           0.10  \n",
              "LassoLarsCV                          0.28  \n",
              "Lars                                 0.13  \n",
              "LassoLarsIC                          0.12  \n",
              "GammaRegressor                       0.13  \n",
              "TweedieRegressor                     0.10  \n",
              "GeneralizedLinearRegressor           0.25  \n",
              "SVR                                105.57  \n",
              "LarsCV                               0.38  \n",
              "NuSVR                               96.84  \n",
              "OrthogonalMatchingPursuitCV          0.24  \n",
              "AdaBoostRegressor                    3.03  \n",
              "OrthogonalMatchingPursuit            0.09  \n",
              "LassoLars                            0.10  \n",
              "DummyRegressor                       0.08  \n",
              "KernelRidge                        123.12  \n",
              "RANSACRegressor                      0.41  "
            ]
          },
          "metadata": {
            "tags": []
          },
          "execution_count": 26
        }
      ]
    },
    {
      "cell_type": "code",
      "metadata": {
        "id": "LFrr6AT1npUo",
        "outputId": "a5cae315-2f83-473a-a77a-dfa2439e4c2f"
      },
      "source": [
        "models_test"
      ],
      "execution_count": null,
      "outputs": [
        {
          "output_type": "execute_result",
          "data": {
            "text/html": [
              "<div>\n",
              "<style scoped>\n",
              "    .dataframe tbody tr th:only-of-type {\n",
              "        vertical-align: middle;\n",
              "    }\n",
              "\n",
              "    .dataframe tbody tr th {\n",
              "        vertical-align: top;\n",
              "    }\n",
              "\n",
              "    .dataframe thead th {\n",
              "        text-align: right;\n",
              "    }\n",
              "</style>\n",
              "<table border=\"1\" class=\"dataframe\">\n",
              "  <thead>\n",
              "    <tr style=\"text-align: right;\">\n",
              "      <th></th>\n",
              "      <th>Adjusted R-Squared</th>\n",
              "      <th>R-Squared</th>\n",
              "      <th>RMSE</th>\n",
              "      <th>Time Taken</th>\n",
              "    </tr>\n",
              "    <tr>\n",
              "      <th>Model</th>\n",
              "      <th></th>\n",
              "      <th></th>\n",
              "      <th></th>\n",
              "      <th></th>\n",
              "    </tr>\n",
              "  </thead>\n",
              "  <tbody>\n",
              "  </tbody>\n",
              "</table>\n",
              "</div>"
            ],
            "text/plain": [
              "Empty DataFrame\n",
              "Columns: [Adjusted R-Squared, R-Squared, RMSE, Time Taken]\n",
              "Index: []"
            ]
          },
          "metadata": {
            "tags": []
          },
          "execution_count": 29
        }
      ]
    },
    {
      "cell_type": "code",
      "metadata": {
        "id": "BC-Y64FPno-E",
        "scrolled": false,
        "outputId": "e043d9e2-061b-4a3f-9516-948d05630ce3"
      },
      "source": [
        "import matplotlib.pyplot as plt\n",
        "import seaborn as sns\n",
        "\n",
        "models_train[\"R-Squared\"] = [0 if i < 0 else i for i in models_train.iloc[:,0] ]\n",
        "\n",
        "plt.figure(figsize=(5, 10))\n",
        "ax = sns.barplot(y=models_train.index, x=\"R-Squared\", data=models_train)\n",
        "ax.set(xlim=(0, 1))"
      ],
      "execution_count": null,
      "outputs": [
        {
          "output_type": "execute_result",
          "data": {
            "text/plain": [
              "[(0.0, 1.0)]"
            ]
          },
          "metadata": {
            "tags": []
          },
          "execution_count": 31
        },
        {
          "output_type": "display_data",
          "data": {
            "image/png": "[encoded data removed]",
            "text/plain": [
              "<Figure size 360x720 with 1 Axes>"
            ]
          },
          "metadata": {
            "tags": [],
            "needs_background": "light"
          }
        }
      ]
    },
    {
      "cell_type": "code",
      "metadata": {
        "id": "31YkvHHoJU7p",
        "outputId": "8abd78d3-207f-45f7-d52f-d158a5b2793e"
      },
      "source": [
        "X = dummy_df.drop('energy_usage_pm', axis=1)\n",
        "y = dummy_df['energy_usage_pm']\n",
        "\n",
        "print('Shape of X = ', X.shape)\n",
        "print('Shape of y = ', y.shape)"
      ],
      "execution_count": null,
      "outputs": [
        {
          "output_type": "stream",
          "text": [
            "Shape of X =  (40000, 39)\n",
            "Shape of y =  (40000,)\n"
          ],
          "name": "stdout"
        }
      ]
    },
    {
      "cell_type": "code",
      "metadata": {
        "id": "JPa2T-1jQMdP",
        "outputId": "a5597235-76ce-4689-b4d0-d4b4d3c330c2"
      },
      "source": [
        "from sklearn.model_selection import train_test_split\n",
        "X_train, X_test, y_train, y_test = train_test_split(X, y, test_size=0.2, random_state=51)\n",
        "\n",
        "print('Shape of X_train = ', X_train.shape)\n",
        "print('Shape of y_train = ', y_train.shape)\n",
        "print('Shape of X_test = ', X_test.shape)\n",
        "print('Shape of y_test = ', y_test.shape)"
      ],
      "execution_count": null,
      "outputs": [
        {
          "output_type": "stream",
          "text": [
            "Shape of X_train =  (32000, 39)\n",
            "Shape of y_train =  (32000,)\n",
            "Shape of X_test =  (8000, 39)\n",
            "Shape of y_test =  (8000,)\n"
          ],
          "name": "stdout"
        }
      ]
    },
    {
      "cell_type": "markdown",
      "metadata": {
        "id": "Ea9hbJBOK7B9"
      },
      "source": [
        "## 1. Random Forest"
      ]
    },
    {
      "cell_type": "code",
      "metadata": {
        "id": "7z0ckOvBQRDs"
      },
      "source": [
        "from sklearn.ensemble import RandomForestRegressor"
      ],
      "execution_count": null,
      "outputs": []
    },
    {
      "cell_type": "code",
      "metadata": {
        "id": "OAoAUs3nQU4N",
        "outputId": "97268b16-2f06-4d0f-c992-fbb767128122"
      },
      "source": [
        "regressor = RandomForestRegressor(n_estimators=100, criterion='mse')\n",
        "regressor.fit(X_train, y_train)"
      ],
      "execution_count": null,
      "outputs": [
        {
          "output_type": "execute_result",
          "data": {
            "text/plain": [
              "RandomForestRegressor()"
            ]
          },
          "metadata": {
            "tags": []
          },
          "execution_count": 35
        }
      ]
    },
    {
      "cell_type": "code",
      "metadata": {
        "id": "TH9ieAZFQYe8",
        "outputId": "f926511c-c028-40b8-ee08-d9feb7758cc3"
      },
      "source": [
        "regressor.score(X_test, y_test)"
      ],
      "execution_count": null,
      "outputs": [
        {
          "output_type": "execute_result",
          "data": {
            "text/plain": [
              "0.7044140722777041"
            ]
          },
          "metadata": {
            "tags": []
          },
          "execution_count": 36
        }
      ]
    },
    {
      "cell_type": "code",
      "metadata": {
        "id": "xvful3I1QedZ",
        "outputId": "72bead32-d99e-40c5-f32b-3ab9dae310e1"
      },
      "source": [
        "regressor_100 = RandomForestRegressor(n_estimators=500, criterion='mse')\n",
        "regressor_100.fit(X_train, y_train)"
      ],
      "execution_count": null,
      "outputs": [
        {
          "output_type": "execute_result",
          "data": {
            "text/plain": [
              "RandomForestRegressor(n_estimators=500)"
            ]
          },
          "metadata": {
            "tags": []
          },
          "execution_count": 37
        }
      ]
    },
    {
      "cell_type": "code",
      "metadata": {
        "id": "g4tMQiqCQicu",
        "outputId": "ac9047f7-2a78-4e5a-ce6a-d39e66ab6051"
      },
      "source": [
        "regressor_100.score(X_test, y_test)"
      ],
      "execution_count": null,
      "outputs": [
        {
          "output_type": "execute_result",
          "data": {
            "text/plain": [
              "0.7041403146623133"
            ]
          },
          "metadata": {
            "tags": []
          },
          "execution_count": 38
        }
      ]
    },
    {
      "cell_type": "code",
      "metadata": {
        "id": "M-zdo0PaQoho",
        "outputId": "7e574129-f550-4a35-f8b9-9dd9772d6659"
      },
      "source": [
        "X_test.iloc[-1, :]"
      ],
      "execution_count": null,
      "outputs": [
        {
          "output_type": "execute_result",
          "data": {
            "text/plain": [
              "House                         13968.00\n",
              "latitude                         51.89\n",
              "longitude                        -4.09\n",
              "num_occupants                     1.00\n",
              "year_built                     1999.00\n",
              "num_appliances                   12.00\n",
              "energy_type_grid                  1.00\n",
              "energy_type_solar                 0.00\n",
              "heating_type_electric             0.00\n",
              "heating_type_heat pump            0.00\n",
              "heating_type_natural gas          1.00\n",
              "glazing_types_double              0.00\n",
              "glazing_types_single              0.00\n",
              "glazing_types_triple              1.00\n",
              "vehicle_type_electric             1.00\n",
              "vehicle_type_general              0.00\n",
              "domicile_type_detached            0.00\n",
              "domicile_type_semi detached       0.00\n",
              "domicile_type_terraced            1.00\n",
              "season_Summer                     1.00\n",
              "season_Winter                     0.00\n",
              "Temp_cat_High                     0.00\n",
              "Temp_cat_Low                      1.00\n",
              "Temp_cat_Medium                   0.00\n",
              "house_size_Large                  0.00\n",
              "house_size_Medium                 0.00\n",
              "house_size_Small                  1.00\n",
              "insulation_High                   1.00\n",
              "insulation_Low                    0.00\n",
              "insulation_Medium                 0.00\n",
              "SmartHouse_Full                   1.00\n",
              "SmartHouse_Semi                   0.00\n",
              "EPC_rating_A                      0.00\n",
              "EPC_rating_B                      1.00\n",
              "EPC_rating_C                      0.00\n",
              "EPC_rating_D                      0.00\n",
              "EPC_rating_E                      0.00\n",
              "EPC_rating_F                      0.00\n",
              "EPC_rating_G                      0.00\n",
              "Name: 13968, dtype: float64"
            ]
          },
          "metadata": {
            "tags": []
          },
          "execution_count": 39
        }
      ]
    },
    {
      "cell_type": "code",
      "metadata": {
        "id": "Bw-NfVnpQyv6",
        "outputId": "f5ff8e18-0ffa-4fa5-e569-c6bf87cd46f4"
      },
      "source": [
        "regressor.predict([X_test.iloc[-1, :]])"
      ],
      "execution_count": null,
      "outputs": [
        {
          "output_type": "execute_result",
          "data": {
            "text/plain": [
              "array([643.66728809])"
            ]
          },
          "metadata": {
            "tags": []
          },
          "execution_count": 40
        }
      ]
    },
    {
      "cell_type": "code",
      "metadata": {
        "id": "G-lKcrS5Q2rz",
        "outputId": "ead839b5-7984-4be1-8027-d76d2ce7cd88"
      },
      "source": [
        "y_test.iloc[-1]"
      ],
      "execution_count": null,
      "outputs": [
        {
          "output_type": "execute_result",
          "data": {
            "text/plain": [
              "502.4651618490087"
            ]
          },
          "metadata": {
            "tags": []
          },
          "execution_count": 41
        }
      ]
    },
    {
      "cell_type": "code",
      "metadata": {
        "id": "GDXj9jWaQ5bh",
        "outputId": "e03684cb-13d0-4cdf-8286-a949a73afe4b"
      },
      "source": [
        "y_pred = regressor.predict(X_test)\n",
        "y_pred"
      ],
      "execution_count": null,
      "outputs": [
        {
          "output_type": "execute_result",
          "data": {
            "text/plain": [
              "array([1614.36466456, 1829.73107129, 1488.55510779, ..., 1111.07695861,\n",
              "       1225.32813416,  643.66728809])"
            ]
          },
          "metadata": {
            "tags": []
          },
          "execution_count": 42
        }
      ]
    },
    {
      "cell_type": "code",
      "metadata": {
        "id": "EVv112qeQ74r",
        "outputId": "ddcea865-33e3-4397-81cd-969a43996abc"
      },
      "source": [
        "y_test"
      ],
      "execution_count": null,
      "outputs": [
        {
          "output_type": "execute_result",
          "data": {
            "text/plain": [
              "31438   1388.28\n",
              "35203   2200.24\n",
              "20169   1398.17\n",
              "28598   1745.09\n",
              "25565   1640.83\n",
              "          ...  \n",
              "30847   1714.31\n",
              "2069    1216.09\n",
              "8970    1571.87\n",
              "39114    919.79\n",
              "13968    502.47\n",
              "Name: energy_usage_pm, Length: 8000, dtype: float64"
            ]
          },
          "metadata": {
            "tags": []
          },
          "execution_count": 43
        }
      ]
    },
    {
      "cell_type": "markdown",
      "metadata": {
        "id": "sopebXvqK7CD"
      },
      "source": [
        "### Refreshed the dataframe and tried a different model"
      ]
    },
    {
      "cell_type": "code",
      "metadata": {
        "id": "ExoO7ZhpQ_iN",
        "outputId": "dd3f77db-c989-4216-9165-464e5dbe53e7"
      },
      "source": [
        "# train test split\n",
        "from sklearn.model_selection import train_test_split\n",
        "X_train, X_test, y_train, y_test = train_test_split(X, y, test_size=0.2, random_state=51)\n",
        "\n",
        "print('Shape of X_train = ', X_train.shape)\n",
        "print('Shape of y_train = ', y_train.shape)\n",
        "print('Shape of X_test = ', X_test.shape)\n",
        "print('Shape of y_test = ', y_test.shape)"
      ],
      "execution_count": null,
      "outputs": [
        {
          "output_type": "stream",
          "text": [
            "Shape of X_train =  (32000, 39)\n",
            "Shape of y_train =  (32000,)\n",
            "Shape of X_test =  (8000, 39)\n",
            "Shape of y_test =  (8000,)\n"
          ],
          "name": "stdout"
        }
      ]
    },
    {
      "cell_type": "code",
      "metadata": {
        "id": "QFZAAiHPROMW"
      },
      "source": [
        "from sklearn.preprocessing import StandardScaler\n",
        "sc = StandardScaler()\n",
        "sc.fit(X_train)\n",
        "X_train = sc.transform(X_train)\n",
        "X_test = sc.transform(X_test)"
      ],
      "execution_count": null,
      "outputs": []
    },
    {
      "cell_type": "markdown",
      "metadata": {
        "id": "ELc6E4MjK7CE"
      },
      "source": [
        "## 2. Linear Regression"
      ]
    },
    {
      "cell_type": "code",
      "metadata": {
        "id": "Tti3nw2QRRjP",
        "outputId": "9801ef1e-e8a0-4b1f-9f66-94c8eeae6200"
      },
      "source": [
        "from sklearn.linear_model import LinearRegression\n",
        "lr = LinearRegression()\n",
        "\n",
        "lr.fit(X_train, y_train)"
      ],
      "execution_count": null,
      "outputs": [
        {
          "output_type": "execute_result",
          "data": {
            "text/plain": [
              "LinearRegression()"
            ]
          },
          "metadata": {
            "tags": []
          },
          "execution_count": 46
        }
      ]
    },
    {
      "cell_type": "code",
      "metadata": {
        "id": "CHs99EPNRUJ3",
        "outputId": "75ef759b-c1a7-4fd3-99ab-1ebf76c25d3d"
      },
      "source": [
        "lr.coef_"
      ],
      "execution_count": null,
      "outputs": [
        {
          "output_type": "execute_result",
          "data": {
            "text/plain": [
              "array([-1.40751162e+00,  8.64004104e-01, -2.10295463e+00,  1.71952857e+00,\n",
              "        3.95403859e-01,  2.73305084e+00,  3.67363566e+14,  3.67363566e+14,\n",
              "        1.67641936e+15,  1.33587838e+15,  1.32225872e+15, -3.77957189e+14,\n",
              "       -1.26287902e+15,  1.91220312e+15,  1.84343306e+15,  1.84343306e+15,\n",
              "        7.37931447e+14,  7.38544983e+14,  7.34881692e+14,  2.53316102e+14,\n",
              "        2.53316102e+14, -6.15406142e+14, -9.71940620e+14, -9.70033497e+14,\n",
              "       -1.51842292e+13, -1.28463734e+14, -1.28018393e+14, -7.29818313e+14,\n",
              "        1.02868950e+15,  1.57792615e+15,  1.63980983e+12,  1.63980983e+12,\n",
              "       -1.06944017e+14, -1.06351813e+14, -1.03307993e+14, -1.03667893e+14,\n",
              "       -1.04165773e+14,  1.00602223e+15,  1.01174861e+15])"
            ]
          },
          "metadata": {
            "tags": []
          },
          "execution_count": 47
        }
      ]
    },
    {
      "cell_type": "code",
      "metadata": {
        "id": "2hIzoakXRWL-",
        "outputId": "c89ebc51-1658-472a-c2b6-70c309c6300d"
      },
      "source": [
        "lr.intercept_"
      ],
      "execution_count": null,
      "outputs": [
        {
          "output_type": "execute_result",
          "data": {
            "text/plain": [
              "1267.8683667402925"
            ]
          },
          "metadata": {
            "tags": []
          },
          "execution_count": 48
        }
      ]
    },
    {
      "cell_type": "code",
      "metadata": {
        "id": "2uhF1pjpRYq0",
        "outputId": "b9a5978f-d1ba-49e8-98ca-d849bb8ba0df"
      },
      "source": [
        "X_test[0, :]"
      ],
      "execution_count": null,
      "outputs": [
        {
          "output_type": "execute_result",
          "data": {
            "text/plain": [
              "array([ 0.24884348,  0.83362957, -0.28260884,  0.72234677,  1.11393284,\n",
              "        0.93151891, -1.00878862,  1.00878862,  0.71714094, -0.45577348,\n",
              "       -0.4487556 ,  1.41746807, -0.70344732, -0.71240018,  0.99426644,\n",
              "       -0.99426644,  1.40961878, -0.71120425, -0.70071917, -0.9990005 ,\n",
              "        0.9990005 , -0.35447252,  1.10882779, -0.88612425, -0.05160741,\n",
              "        0.5839419 , -0.57985213, -0.71240018, -0.70344732,  1.41746807,\n",
              "       -0.99271404,  0.99271404, -0.45176755, -0.44800158,  2.84763474,\n",
              "       -0.35273873, -0.35491919, -0.44346849, -0.44724714])"
            ]
          },
          "metadata": {
            "tags": []
          },
          "execution_count": 49
        }
      ]
    },
    {
      "cell_type": "code",
      "metadata": {
        "id": "fQqtVzDjRbL4",
        "outputId": "2b663c90-7ddb-405e-f429-cc075ee1c6f6"
      },
      "source": [
        "lr.predict([X_test[0, :]])"
      ],
      "execution_count": null,
      "outputs": [
        {
          "output_type": "execute_result",
          "data": {
            "text/plain": [
              "array([1604.36836674])"
            ]
          },
          "metadata": {
            "tags": []
          },
          "execution_count": 50
        }
      ]
    },
    {
      "cell_type": "code",
      "metadata": {
        "id": "rftZw-lDRfUC",
        "outputId": "36e0065d-e9b4-4f4c-9933-5af6d733bd6f"
      },
      "source": [
        "lr.predict(X_test)"
      ],
      "execution_count": null,
      "outputs": [
        {
          "output_type": "execute_result",
          "data": {
            "text/plain": [
              "array([1603.54583509, 1846.03632347, 1608.03632347, ..., 1222.67083509,\n",
              "       1122.17083509,  617.67083509])"
            ]
          },
          "metadata": {
            "tags": []
          },
          "execution_count": 51
        }
      ]
    },
    {
      "cell_type": "code",
      "metadata": {
        "id": "Q-q9zDQ_RjGM",
        "outputId": "7939290f-c4bc-450d-daff-3b38882c6753"
      },
      "source": [
        "y_test"
      ],
      "execution_count": null,
      "outputs": [
        {
          "output_type": "execute_result",
          "data": {
            "text/plain": [
              "31438   1388.28\n",
              "35203   2200.24\n",
              "20169   1398.17\n",
              "28598   1745.09\n",
              "25565   1640.83\n",
              "          ...  \n",
              "30847   1714.31\n",
              "2069    1216.09\n",
              "8970    1571.87\n",
              "39114    919.79\n",
              "13968    502.47\n",
              "Name: energy_usage_pm, Length: 8000, dtype: float64"
            ]
          },
          "metadata": {
            "tags": []
          },
          "execution_count": 52
        }
      ]
    },
    {
      "cell_type": "code",
      "metadata": {
        "id": "Sr0lafIQRl6w",
        "outputId": "ec46dd9a-3e14-4e37-d41e-b5e76cc791f2"
      },
      "source": [
        "lr.score(X_test, y_test)"
      ],
      "execution_count": null,
      "outputs": [
        {
          "output_type": "execute_result",
          "data": {
            "text/plain": [
              "0.7095582062162817"
            ]
          },
          "metadata": {
            "tags": []
          },
          "execution_count": 53
        }
      ]
    },
    {
      "cell_type": "code",
      "metadata": {
        "id": "GuhaHhtVRogH",
        "outputId": "7427c9ed-a600-4710-e7fe-2f754823e595"
      },
      "source": [
        "X = dummy_df.drop('energy_usage_pm', axis=1)\n",
        "y = dummy_df['energy_usage_pm']\n",
        "\n",
        "print('Shape of X = ', X.shape)\n",
        "print('Shape of y = ', y.shape)"
      ],
      "execution_count": null,
      "outputs": [
        {
          "output_type": "stream",
          "text": [
            "Shape of X =  (40000, 39)\n",
            "Shape of y =  (40000,)\n"
          ],
          "name": "stdout"
        }
      ]
    },
    {
      "cell_type": "markdown",
      "metadata": {
        "id": "MUIIDLetK7CI"
      },
      "source": [
        "### Refreshed the dataframe and tried a different model"
      ]
    },
    {
      "cell_type": "code",
      "metadata": {
        "id": "oETdgcitS8nj",
        "outputId": "d23c2fe5-2a89-4393-f6a5-49d60a1a9602"
      },
      "source": [
        "from sklearn.model_selection import train_test_split\n",
        "X_train, X_test, y_train, y_test = train_test_split(X, y, test_size=0.2, random_state=51)\n",
        "\n",
        "print('Shape of X_train = ', X_train.shape)\n",
        "print('Shape of y_train = ', y_train.shape)\n",
        "print('Shape of X_test = ', X_test.shape)\n",
        "print('Shape of y_test = ', y_test.shape)"
      ],
      "execution_count": null,
      "outputs": [
        {
          "output_type": "stream",
          "text": [
            "Shape of X_train =  (32000, 39)\n",
            "Shape of y_train =  (32000,)\n",
            "Shape of X_test =  (8000, 39)\n",
            "Shape of y_test =  (8000,)\n"
          ],
          "name": "stdout"
        }
      ]
    },
    {
      "cell_type": "code",
      "metadata": {
        "id": "MiNz2HhfYmgA"
      },
      "source": [
        "from sklearn.preprocessing import StandardScaler\n",
        "sc = StandardScaler()\n",
        "sc.fit(X_train)\n",
        "X_train = sc.transform(X_train)\n",
        "X_test = sc.transform(X_test)"
      ],
      "execution_count": null,
      "outputs": []
    },
    {
      "cell_type": "code",
      "metadata": {
        "id": "OfjjZg_8Ypvq",
        "outputId": "e2240ec3-bf5c-4325-a20f-ca8e1507032a"
      },
      "source": [
        "from sklearn.linear_model import LinearRegression\n",
        "from sklearn.preprocessing import PolynomialFeatures\n",
        " \n",
        "poly_reg = PolynomialFeatures(degree=2)\n",
        "poly_reg.fit(X_train)\n",
        "X_train_poly = poly_reg.transform(X_train)\n",
        "X_test_poly = poly_reg.transform(X_test)\n",
        " \n",
        "X_train_poly.shape, X_test_poly.shape\n",
        " "
      ],
      "execution_count": null,
      "outputs": [
        {
          "output_type": "execute_result",
          "data": {
            "text/plain": [
              "((32000, 820), (8000, 820))"
            ]
          },
          "metadata": {
            "tags": []
          },
          "execution_count": 78
        }
      ]
    },
    {
      "cell_type": "code",
      "metadata": {
        "id": "rpNK_PS6Ytw2",
        "outputId": "9bb4fbba-0d16-46ff-d106-34c0d5f90d60"
      },
      "source": [
        "lr = LinearRegression()\n",
        " \n",
        "lr.fit(X_train_poly, y_train)\n",
        " \n",
        "lr.score(X_test_poly, y_test,)"
      ],
      "execution_count": null,
      "outputs": [
        {
          "output_type": "execute_result",
          "data": {
            "text/plain": [
              "0.7317885812690833"
            ]
          },
          "metadata": {
            "tags": []
          },
          "execution_count": 79
        }
      ]
    }
  ]
}